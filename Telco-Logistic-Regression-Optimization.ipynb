{
 "cells": [
  {
   "cell_type": "markdown",
   "id": "5ac56c3c-5ecc-4e75-b982-c5e63970f202",
   "metadata": {},
   "source": [
    "# Data:\n",
    "- Collect from Kaggle \n",
    "- Will be used to predict customer churn - logistic regression \n",
    "- Telco data \n",
    "- 20 columns with a target variable of churn "
   ]
  },
  {
   "cell_type": "code",
   "execution_count": 50,
   "id": "ba89da1c-d9b0-4d84-a802-8c2d2403cde2",
   "metadata": {},
   "outputs": [],
   "source": [
    "import pandas as pd\n",
    "import warnings\n",
    "warnings.filterwarnings(\"ignore\")\n",
    "df = pd.read_csv(\"WA_Fn-UseC_-Telco-Customer-Churn.csv\")"
   ]
  },
  {
   "cell_type": "markdown",
   "id": "435a4c0b-c28e-40d8-8cee-5d4060c76d41",
   "metadata": {},
   "source": [
    "Data has a total of 21 columns"
   ]
  },
  {
   "cell_type": "code",
   "execution_count": 51,
   "id": "7144c610-103a-47c9-b779-b6704243f07b",
   "metadata": {},
   "outputs": [
    {
     "data": {
      "text/plain": [
       "21"
      ]
     },
     "execution_count": 51,
     "metadata": {},
     "output_type": "execute_result"
    }
   ],
   "source": [
    "len(df.columns)"
   ]
  },
  {
   "cell_type": "code",
   "execution_count": 52,
   "id": "07d6640f-db89-49bc-a926-8874bb997445",
   "metadata": {},
   "outputs": [],
   "source": [
    "df.head().to_clipboard()"
   ]
  },
  {
   "cell_type": "markdown",
   "id": "4ee38c05-a834-43e1-9078-79429b678aa2",
   "metadata": {},
   "source": [
    "- Data set has been cleansed of all missing values \n",
    "- Mixture of qualitative and quantitative data "
   ]
  },
  {
   "cell_type": "code",
   "execution_count": 53,
   "id": "85c9a848-9df0-4d5b-931d-a9e4c9107c31",
   "metadata": {},
   "outputs": [
    {
     "data": {
      "text/plain": [
       "customerID          0\n",
       "gender              0\n",
       "SeniorCitizen       0\n",
       "Partner             0\n",
       "Dependents          0\n",
       "tenure              0\n",
       "PhoneService        0\n",
       "MultipleLines       0\n",
       "InternetService     0\n",
       "OnlineSecurity      0\n",
       "OnlineBackup        0\n",
       "DeviceProtection    0\n",
       "TechSupport         0\n",
       "StreamingTV         0\n",
       "StreamingMovies     0\n",
       "Contract            0\n",
       "PaperlessBilling    0\n",
       "PaymentMethod       0\n",
       "MonthlyCharges      0\n",
       "TotalCharges        0\n",
       "Churn               0\n",
       "dtype: int64"
      ]
     },
     "execution_count": 53,
     "metadata": {},
     "output_type": "execute_result"
    }
   ],
   "source": [
    "df.isna().sum()"
   ]
  },
  {
   "cell_type": "markdown",
   "id": "22a96e08-2505-461a-a44f-fc42304d727a",
   "metadata": {},
   "source": [
    "# Data Preprocessing\n",
    "- Creating dummies for qualitative data with binary outputs (0 or 1)\n",
    "- Also have to map out the target to turn yes and no into (0 or 1) "
   ]
  },
  {
   "cell_type": "code",
   "execution_count": 54,
   "id": "2147b948-eddb-4305-bd83-b6a32fff852e",
   "metadata": {},
   "outputs": [],
   "source": [
    "\n",
    "# Convert categorical variables into dummy variables\n",
    "df = pd.get_dummies(df, columns=['gender', 'Partner', 'Dependents', 'PhoneService', 'MultipleLines', 'InternetService', 'OnlineSecurity', 'OnlineBackup', 'DeviceProtection', 'TechSupport', 'StreamingTV', 'StreamingMovies', 'Contract', 'PaperlessBilling', 'PaymentMethod'])\n",
    "\n",
    "# Handle missing values\n",
    "df['TotalCharges'] = pd.to_numeric(df['TotalCharges'], errors='coerce')\n",
    "df = df.dropna()"
   ]
  },
  {
   "cell_type": "code",
   "execution_count": 55,
   "id": "4a55af27-ad13-4e7b-ab7d-739b4f529d77",
   "metadata": {},
   "outputs": [],
   "source": [
    "# Replace the fruit column values\n",
    "df['Churn'].replace({'Yes': 1, 'No': 0}, inplace=True)"
   ]
  },
  {
   "cell_type": "markdown",
   "id": "89a18d10-0c44-42f2-aacb-33f9d412374f",
   "metadata": {},
   "source": [
    "# Train Test Split Data \n",
    "- Training data will be used to train our logistic regression model to predict test outputs\n",
    "- Have to drop identifiers (customerID) as well as target from the training set ('churn')\n",
    "- Test size will be 25% of the data with 75% of the set used to train the models predictions"
   ]
  },
  {
   "cell_type": "code",
   "execution_count": 56,
   "id": "f41e2785-c97d-454d-8337-8b0717a11fc9",
   "metadata": {},
   "outputs": [],
   "source": [
    "from sklearn.model_selection import train_test_split\n",
    "\n",
    "# Split the data into training and testing sets\n",
    "X = df.drop(['customerID', 'Churn'], axis=1)\n",
    "y = df['Churn']\n",
    "X_train, X_test, y_train, y_test = train_test_split(X, y, test_size=0.3, random_state=42)"
   ]
  },
  {
   "cell_type": "markdown",
   "id": "a1760d12-fa7f-41fa-a01a-4bac93182d14",
   "metadata": {},
   "source": [
    "# Fitting the Model \n",
    "- Model object will be stored in variable lgreg\n"
   ]
  },
  {
   "cell_type": "code",
   "execution_count": 57,
   "id": "e03d94c5-53d0-47fe-8a95-276d7bc9e14d",
   "metadata": {},
   "outputs": [
    {
     "data": {
      "text/plain": [
       "LogisticRegression()"
      ]
     },
     "execution_count": 57,
     "metadata": {},
     "output_type": "execute_result"
    }
   ],
   "source": [
    "lgreg = LogisticRegression()\n",
    "lgreg.fit(X_train, y_train)"
   ]
  },
  {
   "cell_type": "markdown",
   "id": "ca3e76c9-c6c3-4826-a2a8-bafba091a251",
   "metadata": {},
   "source": [
    "# Cross Validate \n",
    "- Checking to see what the training score returns to assess the quality of the model \n",
    "- Looking at the training score you can see that we a have an accepable model to make predictions (train_score>.70)"
   ]
  },
  {
   "cell_type": "code",
   "execution_count": 70,
   "id": "4b806004-2bdd-410d-9443-e9587f5e9c0f",
   "metadata": {},
   "outputs": [
    {
     "data": {
      "text/html": [
       "<div>\n",
       "<style scoped>\n",
       "    .dataframe tbody tr th:only-of-type {\n",
       "        vertical-align: middle;\n",
       "    }\n",
       "\n",
       "    .dataframe tbody tr th {\n",
       "        vertical-align: top;\n",
       "    }\n",
       "\n",
       "    .dataframe thead th {\n",
       "        text-align: right;\n",
       "    }\n",
       "</style>\n",
       "<table border=\"1\" class=\"dataframe\">\n",
       "  <thead>\n",
       "    <tr style=\"text-align: right;\">\n",
       "      <th></th>\n",
       "      <th>0</th>\n",
       "    </tr>\n",
       "  </thead>\n",
       "  <tbody>\n",
       "    <tr>\n",
       "      <th>fit_time</th>\n",
       "      <td>0.063386</td>\n",
       "    </tr>\n",
       "    <tr>\n",
       "      <th>score_time</th>\n",
       "      <td>0.001202</td>\n",
       "    </tr>\n",
       "    <tr>\n",
       "      <th>test_score</th>\n",
       "      <td>0.806786</td>\n",
       "    </tr>\n",
       "    <tr>\n",
       "      <th>train_score</th>\n",
       "      <td>0.807243</td>\n",
       "    </tr>\n",
       "  </tbody>\n",
       "</table>\n",
       "</div>"
      ],
      "text/plain": [
       "                    0\n",
       "fit_time     0.063386\n",
       "score_time   0.001202\n",
       "test_score   0.806786\n",
       "train_score  0.807243"
      ]
     },
     "execution_count": 70,
     "metadata": {},
     "output_type": "execute_result"
    }
   ],
   "source": [
    "from sklearn.model_selection import cross_val_score\n",
    "from sklearn.model_selection import cross_validate\n",
    "pd.DataFrame(pd.DataFrame(cross_validate(lgreg, X_train, y_train, return_train_score=True)).mean())"
   ]
  },
  {
   "cell_type": "markdown",
   "id": "d146105f-71d0-45e8-ad00-d5c6b6862d86",
   "metadata": {},
   "source": [
    "# Evaluation Metrics"
   ]
  },
  {
   "cell_type": "markdown",
   "id": "d0001dc2-995c-4f9d-8536-31d4d5f9d272",
   "metadata": {},
   "source": [
    "- When assessing a model such a logistic regression that takes in continuous and discrete types to return a binary predictor you hav to create a confusion matrix to assess the results. \n",
    "- The confusion matrix is used to assess and create different metrics to calculate the true positive/negative rate\n",
    "    - These metrics include:\n",
    "        - accuracy_score \n",
    "        - precision_score\n",
    "        - recall_score\n",
    "        - f1_score\n",
    "        - ROC \n",
    "- Looking at our ROC we can see that a solid threshold for classiciation is between .20 - .40\n",
    " - If we were to be assessesing different models to draw comparisons we would also include the AUC"
   ]
  },
  {
   "cell_type": "code",
   "execution_count": 77,
   "id": "4bfc95b2-7f23-4f43-820b-d656cd495a0d",
   "metadata": {},
   "outputs": [
    {
     "data": {
      "text/plain": [
       "array([[1381,  168],\n",
       "       [ 261,  300]])"
      ]
     },
     "execution_count": 77,
     "metadata": {},
     "output_type": "execute_result"
    }
   ],
   "source": [
    "from sklearn.metrics import confusion_matrix\n",
    "\n",
    "confusion_matrix(y_test, y_pred)"
   ]
  },
  {
   "cell_type": "code",
   "execution_count": 78,
   "id": "180fa046-2428-43c6-993f-aeb80a3f7ada",
   "metadata": {},
   "outputs": [
    {
     "name": "stdout",
     "output_type": "stream",
     "text": [
      "Accuracy: 0.7966824644549763\n",
      "Precision: 0.6410256410256411\n",
      "Recall: 0.5347593582887701\n",
      "F1 Score: 0.5830903790087464\n"
     ]
    }
   ],
   "source": [
    "from sklearn.metrics import accuracy_score, precision_score, recall_score, f1_score, classification_report\n",
    "\n",
    "# Make predictions on the testing data\n",
    "y_pred = lgreg.predict(X_test)\n",
    "\n",
    "# Evaluate the performance of the model\n",
    "print('Accuracy:', accuracy_score(y_test, y_pred))\n",
    "print('Precision:', precision_score(y_test, y_pred))\n",
    "print('Recall:', recall_score(y_test, y_pred))\n",
    "print('F1 Score:', f1_score(y_test, y_pred))"
   ]
  },
  {
   "cell_type": "code",
   "execution_count": 79,
   "id": "132f79c3-36ab-4d19-aafd-b1e76fa53951",
   "metadata": {},
   "outputs": [
    {
     "name": "stdout",
     "output_type": "stream",
     "text": [
      "              precision    recall  f1-score   support\n",
      "\n",
      "           0       0.84      0.89      0.87      1549\n",
      "           1       0.64      0.53      0.58       561\n",
      "\n",
      "    accuracy                           0.80      2110\n",
      "   macro avg       0.74      0.71      0.72      2110\n",
      "weighted avg       0.79      0.80      0.79      2110\n",
      "\n"
     ]
    }
   ],
   "source": [
    "# More optimal method of evaluation \n",
    "print(classification_report(y_test, y_pred))"
   ]
  },
  {
   "cell_type": "code",
   "execution_count": 80,
   "id": "007cba13-97a2-46b1-a1a5-fc4137fabd63",
   "metadata": {},
   "outputs": [
    {
     "data": {
      "image/png": "[encoded data removed]",
      "text/plain": [
       "<Figure size 432x288 with 1 Axes>"
      ]
     },
     "metadata": {
      "needs_background": "light"
     },
     "output_type": "display_data"
    }
   ],
   "source": [
    "from sklearn.metrics import roc_curve, auc\n",
    "import matplotlib.pyplot as plt\n",
    "# Get the predicted probabilities for the test set\n",
    "y_pred_prob = lgreg.predict_proba(X_test)[:, 1]\n",
    "\n",
    "# Calculate the false positive rate (fpr), true positive rate (tpr) and thresholds\n",
    "fpr, tpr, thresholds = roc_curve(y_test, y_pred_prob)\n",
    "\n",
    "# Calculate the area under the ROC curve (AUC)\n",
    "roc_auc = auc(fpr, tpr)\n",
    "\n",
    "\n",
    "# Plot the ROC curve\n",
    "plt.plot(fpr, tpr, color='darkorange', lw=2, label='ROC curve (area = %0.2f)' % roc_auc)\n",
    "plt.plot([0, 1], [0, 1], color='navy', lw=2, linestyle='--')\n",
    "plt.xlabel('False Positive Rate')\n",
    "plt.ylabel('True Positive Rate')\n",
    "plt.title('Receiver operating characteristic (ROC) Curve')\n",
    "plt.legend(loc=\"lower right\")\n",
    "plt.show()"
   ]
  },
  {
   "cell_type": "markdown",
   "id": "9294ec0a-4d42-4ea0-a290-80b2bd5ff178",
   "metadata": {},
   "source": [
    "# How can we improve this model ?\n",
    "- Looking at the ROC we can see that a good range to test thresholds is between .2 - .4 \n",
    "- Below we were able to plot out the optimal threshold "
   ]
  },
  {
   "cell_type": "code",
   "execution_count": 82,
   "id": "b6c2ebbe-6bde-45b0-821a-37aa82d92c84",
   "metadata": {},
   "outputs": [
    {
     "data": {
      "image/png": "[encoded data removed]",
      "text/plain": [
       "<Figure size 432x288 with 1 Axes>"
      ]
     },
     "metadata": {
      "needs_background": "light"
     },
     "output_type": "display_data"
    }
   ],
   "source": [
    "from sklearn.metrics import roc_curve, auc\n",
    "import numpy as np\n",
    "\n",
    "# Get the predicted probabilities for the test set\n",
    "y_pred_prob = lgreg.predict_proba(X_test)[:, 1]\n",
    "\n",
    "# Calculate the false positive rate (fpr), true positive rate (tpr) and thresholds\n",
    "fpr, tpr, thresholds = roc_curve(y_test, y_pred_prob)\n",
    "\n",
    "# Calculate the area under the ROC curve (AUC)\n",
    "roc_auc = auc(fpr, tpr)\n",
    "\n",
    "# Subtracing the true positive rate by the false positive rate to get the \n",
    "j_scores = tpr - fpr\n",
    "best_threshold = thresholds[np.argmax(j_scores)]\n",
    "\n",
    "# Plot the ROC curve\n",
    "plt.plot(fpr, tpr, color='darkorange', lw=2, label='ROC curve (area = %0.2f)' % roc_auc)\n",
    "plt.plot([0, 1], [0, 1], color='navy', lw=2, linestyle='--')\n",
    "plt.xlabel('False Positive Rate')\n",
    "plt.ylabel('True Positive Rate')\n",
    "plt.title('Receiver operating characteristic (ROC) Curve')\n",
    "\n",
    "# Plot the optimal threshold on the ROC curve\n",
    "plt.scatter(fpr[np.argmax(j_scores)], tpr[np.argmax(j_scores)], s=50, marker='o', color='red')\n",
    "plt.text(fpr[np.argmax(j_scores)] + 0.02, tpr[np.argmax(j_scores)] - 0.03, 'Optimal threshold: %0.2f' % best_threshold)\n",
    "\n",
    "plt.legend(loc=\"lower right\")\n",
    "plt.show()\n"
   ]
  },
  {
   "cell_type": "markdown",
   "id": "cc748416-6c45-480e-ae07-01993411e3f4",
   "metadata": {},
   "source": [
    "# Threshold Optimization \n",
    "- .30 optimal threshold "
   ]
  },
  {
   "cell_type": "markdown",
   "id": "17b3268d-f3f8-4100-b24c-056536014c57",
   "metadata": {},
   "source": [
    "## Old results\n",
    "- Accuracy: 0.7966824644549763\n",
    "- Precision: 0.6410256410256411\n",
    "- Recall: 0.5347593582887701\n",
    "- F1 Score: 0.5830903790087464"
   ]
  },
  {
   "cell_type": "markdown",
   "id": "236d4cc1-6fdc-489f-83d9-fafb89d78eb7",
   "metadata": {},
   "source": [
    "Optimization was a success with a increase in Recall and F1 !"
   ]
  },
  {
   "cell_type": "code",
   "execution_count": 90,
   "id": "e70b52fc-6372-4c00-b389-1ae290d047f8",
   "metadata": {},
   "outputs": [
    {
     "name": "stdout",
     "output_type": "stream",
     "text": [
      "Accuracy: 0.76\n",
      "Precision: 0.54\n",
      "Recall: 0.77\n",
      "F1 Score: 0.63\n"
     ]
    }
   ],
   "source": [
    "# Train the model on the training set\n",
    "lgreg.fit(X_train, y_train)\n",
    "\n",
    "# Get the predicted probabilities for the test set\n",
    "y_pred_prob = lgreg.predict_proba(X_test)[:, 1]\n",
    "\n",
    "# Set the threshold to 0.3\n",
    "threshold = 0.3\n",
    "\n",
    "# Convert the predicted probabilities to predicted classes using the threshold\n",
    "y_pred = [1 if prob >= threshold else 0 for prob in y_pred_prob]\n",
    "\n",
    "# Calculate the evaluation metrics\n",
    "accuracy = accuracy_score(y_test, y_pred)\n",
    "precision = precision_score(y_test, y_pred)\n",
    "recall = recall_score(y_test, y_pred)\n",
    "f1 = f1_score(y_test, y_pred)\n",
    "\n",
    "# Print the evaluation metrics\n",
    "print('Accuracy: {:.2f}'.format(accuracy))\n",
    "print('Precision: {:.2f}'.format(precision))\n",
    "print('Recall: {:.2f}'.format(recall))\n",
    "print('F1 Score: {:.2f}'.format(f1))"
   ]
  },
  {
   "cell_type": "markdown",
   "id": "7eb4e325-c053-4f47-9ddb-3a930777d48e",
   "metadata": {},
   "source": [
    "- Looking at the results of the old versus the optimized model you can see how the confusion matrix the optimized model with threshold of .3 returns:\n",
    "- less TP and FN\n",
    "- More FP and TN"
   ]
  },
  {
   "cell_type": "markdown",
   "id": "68341a88-11c5-40c4-b9f4-6705f2084f99",
   "metadata": {},
   "source": [
    "array([[1381,  168],\n",
    "       [ 261,  300]])"
   ]
  },
  {
   "cell_type": "code",
   "execution_count": 93,
   "id": "bc5d0b1d-ed52-45e6-8442-fe117af9cc72",
   "metadata": {},
   "outputs": [
    {
     "data": {
      "text/plain": [
       "array([[1181,  368],\n",
       "       [ 130,  431]])"
      ]
     },
     "execution_count": 93,
     "metadata": {},
     "output_type": "execute_result"
    }
   ],
   "source": [
    "from sklearn.metrics import confusion_matrix\n",
    "\n",
    "confusion_matrix(y_test, y_pred)"
   ]
  }
 ],
 "metadata": {
  "kernelspec": {
   "display_name": "Python 3 (ipykernel)",
   "language": "python",
   "name": "python3"
  },
  "language_info": {
   "codemirror_mode": {
    "name": "ipython",
    "version": 3
   },
   "file_extension": ".py",
   "mimetype": "text/x-python",
   "name": "python",
   "nbconvert_exporter": "python",
   "pygments_lexer": "ipython3",
   "version": "3.9.12"
  }
 },
 "nbformat": 4,
 "nbformat_minor": 5
}
