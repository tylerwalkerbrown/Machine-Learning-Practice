{
 "cells": [
  {
   "cell_type": "markdown",
   "id": "bcb5b6f6-7f41-41b8-8569-3ff3d8fb51af",
   "metadata": {},
   "source": [
    "# Adaboost Classifier \n",
    "Adaboost classifier is an ensemble technique that allows you to make predictions on both qualitatitve and quantitative datatypes. The classifier uses a series of stumps to make predictions using weak learners in a dataset. This classifier is different from random forest where random forest ensembles decision trees to make predictions. \n",
    "Each observation starts out weighted the same throughout the data and gets adjusted based on false predictions using the amount of say in the model to make new standardized weighted averages with the formula(s). (False predictions weight are totaled):\n",
    "1. amount of say = 1/2 log(1- Total Error/Total Error)\n",
    "    - total error = total misclassified / total number of observations\n",
    "2. observation weight x e ^ amount of say -----Used for the correctly predicted values \n",
    "   observation weight x e ^ -amount of say ------- Used for the incorrectly predicted values \n",
    "   \n",
    " After the stumps work through each stump testing the best results these formulas outputs will then be weighted according to the adaboost formula (2). The weights then become normalized according to the original weights set at the beginning of the classifier. This puts emphasis on the variables that were predicted incorrectly. \n",
    " Once the model has been trained data will then be broken up according to adjacent ranges of observatuions."
   ]
  },
  {
   "cell_type": "code",
   "execution_count": 21,
   "id": "456d5800-7789-4942-a37f-ffc1b6230880",
   "metadata": {},
   "outputs": [],
   "source": [
    "import pandas as pd\n",
    "df = pd.read_csv(\"diabetes.csv\")"
   ]
  },
  {
   "cell_type": "code",
   "execution_count": 22,
   "id": "1828f50f-e7a7-4a06-836f-58f69ba22493",
   "metadata": {},
   "outputs": [
    {
     "name": "stdout",
     "output_type": "stream",
     "text": [
      "<class 'pandas.core.frame.DataFrame'>\n",
      "RangeIndex: 768 entries, 0 to 767\n",
      "Data columns (total 9 columns):\n",
      " #   Column                    Non-Null Count  Dtype  \n",
      "---  ------                    --------------  -----  \n",
      " 0   Pregnancies               768 non-null    int64  \n",
      " 1   Glucose                   768 non-null    int64  \n",
      " 2   BloodPressure             768 non-null    int64  \n",
      " 3   SkinThickness             768 non-null    int64  \n",
      " 4   Insulin                   768 non-null    int64  \n",
      " 5   BMI                       768 non-null    float64\n",
      " 6   DiabetesPedigreeFunction  768 non-null    float64\n",
      " 7   Age                       768 non-null    int64  \n",
      " 8   Outcome                   768 non-null    int64  \n",
      "dtypes: float64(2), int64(7)\n",
      "memory usage: 54.1 KB\n"
     ]
    }
   ],
   "source": [
    "df.info()"
   ]
  },
  {
   "cell_type": "markdown",
   "id": "4fbe89be-c616-4fbd-b6fd-920aa60935d3",
   "metadata": {},
   "source": [
    "# Required Packages for Modeling"
   ]
  },
  {
   "cell_type": "code",
   "execution_count": 23,
   "id": "469b0780-4397-465b-b104-083c7724cec5",
   "metadata": {},
   "outputs": [],
   "source": [
    "from sklearn.ensemble import AdaBoostClassifier\n",
    "from sklearn.tree import DecisionTreeClassifier\n",
    "from sklearn.datasets import make_classification\n",
    "from sklearn.model_selection import train_test_split\n",
    "from sklearn.metrics import accuracy_score"
   ]
  },
  {
   "cell_type": "markdown",
   "id": "75f85c26-e26b-4835-9f1f-ef2b94674636",
   "metadata": {},
   "source": [
    "# Train set split\n",
    " - Used to split the data into 80% train and 20% test \n",
    "     - Training set is used to train the models predictions for the test data \n",
    "     - Test data is unpredicted data that can be fed into the model "
   ]
  },
  {
   "cell_type": "code",
   "execution_count": 24,
   "id": "da2ece87-3a16-4845-81eb-0336f14c6f64",
   "metadata": {},
   "outputs": [],
   "source": [
    "# Split the dataset into training and testing sets\n",
    "X_train, X_test, y_train, y_test = train_test_split(df.loc[:, df.columns != 'Outcome'] , df['Outcome'], test_size=0.2, random_state=42)"
   ]
  },
  {
   "cell_type": "markdown",
   "id": "53b319a2-1d1e-42ee-a337-dbda3c7f8048",
   "metadata": {},
   "source": [
    "# Ensembling\n",
    "- Adaboost is an build off of decision trees \n",
    "- Here we are creating a decision tree object that will serve as our base estimator in the Adaboostclassifier \n",
    "- In this model we use 50 "
   ]
  },
  {
   "cell_type": "code",
   "execution_count": 41,
   "id": "d1c5e64e-a6bf-484f-88cb-8190e2e52b5d",
   "metadata": {},
   "outputs": [],
   "source": [
    "# Create a decision tree classifier as the base estimator\n",
    "decision_tree = DecisionTreeClassifier(max_depth=1, random_state=42)\n",
    "\n",
    "# Create the Adaboost classifier with 50 estimators\n",
    "adaboost_clf = AdaBoostClassifier(base_estimator=model_object, n_estimators=50, random_state=42)"
   ]
  },
  {
   "cell_type": "markdown",
   "id": "8581e106-5416-46d9-82b9-d9c9f28871dd",
   "metadata": {},
   "source": [
    "# Grid Search \n",
    "    - Grid search is used to optimize the n_estimators\n",
    "    - Grid search will take in the model object, param_grid which will serve to test the optimal amount of estimators in the model "
   ]
  },
  {
   "cell_type": "code",
   "execution_count": 42,
   "id": "4d57f95f-8d33-428c-9e61-b393082a53fc",
   "metadata": {},
   "outputs": [
    {
     "data": {
      "text/plain": [
       "50"
      ]
     },
     "execution_count": 42,
     "metadata": {},
     "output_type": "execute_result"
    }
   ],
   "source": [
    "from sklearn.model_selection import GridSearchCV\n",
    "\n",
    "param_grid = {'n_estimators': [10,50, 100, 200, 400, 800]}\n",
    "\n",
    "# Create a grid search object to search over the parameter grid\n",
    "grid_search = GridSearchCV(adaboost_clf, param_grid, cv=5)\n",
    "\n",
    "# Fit the grid search object to the data to find the optimal hyperparameters\n",
    "grid_search.fit(X_train, y_train)\n",
    "\n",
    "# Extract the best hyperparameters\n",
    "best_params = grid_search.best_params_\n",
    "\n",
    "grid_search.best_params_['n_estimators']\n"
   ]
  },
  {
   "cell_type": "markdown",
   "id": "0e5be72e-57e2-4865-8fe4-31f16d4f870e",
   "metadata": {},
   "source": [
    "# Fit/Predict\n"
   ]
  },
  {
   "cell_type": "code",
   "execution_count": 43,
   "id": "5d95c7a1-00f3-4408-bc69-9db67996eb4b",
   "metadata": {},
   "outputs": [],
   "source": [
    "# Fit the Adaboost classifier to the training data\n",
    "adaboost_clf.fit(X_train, y_train)\n",
    "\n",
    "# Predict on the testing data\n",
    "y_pred = adaboost_clf.predict(X_test)"
   ]
  },
  {
   "cell_type": "markdown",
   "id": "573fd150-95b3-41a6-8028-22963be1b685",
   "metadata": {},
   "source": [
    "# Optimization "
   ]
  },
  {
   "cell_type": "code",
   "execution_count": 44,
   "id": "d6beaff4-7e12-4719-b783-682513a904f2",
   "metadata": {},
   "outputs": [],
   "source": [
    "from sklearn.metrics import roc_curve, auc\n",
    "import numpy as np\n",
    "def roc_optimization(model, X_test, y_test,X_train, y_train):\n",
    "    # Fit the Adaboost classifier to the training data\n",
    "    adaboost_clf.fit(X_train, y_train)\n",
    "\n",
    "    # Predict on the testing data\n",
    "    y_pred = adaboost_clf.predict(X_test)\n",
    "    import matplotlib.pyplot as plt\n",
    "    # Get the predicted probabilities for the test set\n",
    "    y_pred_prob = model.predict_proba(X_test)[:, 1]\n",
    "\n",
    "    # Calculate the false positive rate (fpr), true positive rate (tpr) and thresholds\n",
    "    fpr, tpr, thresholds = roc_curve(y_test, y_pred_prob)\n",
    "\n",
    "    # Calculate the area under the ROC curve (AUC)\n",
    "    roc_auc = auc(fpr, tpr)\n",
    "\n",
    "    # Subtracing the true positive rate by the false positive rate to get the optimal threshold\n",
    "    j_scores = tpr - fpr\n",
    "    best_threshold = thresholds[np.argmax(j_scores)]\n",
    "    \n",
    "    #ROC curve\n",
    "    plt.plot(fpr, tpr, color='darkorange', lw=2, label='ROC curve (area = %0.2f)' % roc_auc)\n",
    "    plt.plot([0, 1], [0, 1], color='navy', lw=2, linestyle='--')\n",
    "    plt.xlabel('False Positive Rate')\n",
    "    plt.ylabel('True Positive Rate')\n",
    "    plt.title('Receiver operating characteristic (ROC) Curve')\n",
    "\n",
    "    # Plot the optimal threshold on the ROC curve\n",
    "    plt.scatter(fpr[np.argmax(j_scores)], tpr[np.argmax(j_scores)], s=50, marker='o', color='red')\n",
    "    plt.text(fpr[np.argmax(j_scores)] + 0.02, tpr[np.argmax(j_scores)] - 0.03, 'Optimal threshold: %0.2f' % best_threshold)\n",
    "\n",
    "    plt.legend(loc=\"lower right\")\n",
    "    plt.show()\n",
    "    return "
   ]
  },
  {
   "cell_type": "code",
   "execution_count": 45,
   "id": "263024c1-10fa-41f2-8d74-20c1d2b83d44",
   "metadata": {},
   "outputs": [
    {
     "data": {
      "image/png": "[encoded data removed]",
      "text/plain": [
       "<Figure size 432x288 with 1 Axes>"
      ]
     },
     "metadata": {
      "needs_background": "light"
     },
     "output_type": "display_data"
    }
   ],
   "source": [
    "roc_optimization(adaboost_clf, X_test, y_test,X_train, y_train)"
   ]
  },
  {
   "cell_type": "markdown",
   "id": "636ca60f-04fb-4392-b71a-f79f73cf16b6",
   "metadata": {},
   "source": [
    "# Eval Metrics "
   ]
  },
  {
   "cell_type": "code",
   "execution_count": 46,
   "id": "e40c4a0c-6870-4b1b-ac90-e5b33aff42b0",
   "metadata": {},
   "outputs": [
    {
     "name": "stdout",
     "output_type": "stream",
     "text": [
      "              precision    recall  f1-score   support\n",
      "\n",
      "           0       0.80      0.79      0.79        99\n",
      "           1       0.62      0.64      0.63        55\n",
      "\n",
      "    accuracy                           0.73       154\n",
      "   macro avg       0.71      0.71      0.71       154\n",
      "weighted avg       0.73      0.73      0.73       154\n",
      "\n"
     ]
    }
   ],
   "source": [
    "from sklearn.metrics import accuracy_score, precision_score, recall_score, f1_score, classification_report\n",
    "\n",
    "print(classification_report(y_test, y_pred))"
   ]
  },
  {
   "cell_type": "code",
   "execution_count": 47,
   "id": "f2942b73-cf8c-4517-a545-ac00a2637f79",
   "metadata": {},
   "outputs": [
    {
     "data": {
      "text/plain": [
       "array([[78, 21],\n",
       "       [20, 35]])"
      ]
     },
     "execution_count": 47,
     "metadata": {},
     "output_type": "execute_result"
    }
   ],
   "source": [
    "from sklearn.metrics import confusion_matrix\n",
    "\n",
    "confusion_matrix(y_test, y_pred)"
   ]
  }
 ],
 "metadata": {
  "kernelspec": {
   "display_name": "Python 3 (ipykernel)",
   "language": "python",
   "name": "python3"
  },
  "language_info": {
   "codemirror_mode": {
    "name": "ipython",
    "version": 3
   },
   "file_extension": ".py",
   "mimetype": "text/x-python",
   "name": "python",
   "nbconvert_exporter": "python",
   "pygments_lexer": "ipython3",
   "version": "3.9.12"
  }
 },
 "nbformat": 4,
 "nbformat_minor": 5
}
