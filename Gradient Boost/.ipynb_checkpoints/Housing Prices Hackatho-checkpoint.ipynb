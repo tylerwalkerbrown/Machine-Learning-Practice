{
 "cells": [
  {
   "cell_type": "markdown",
   "id": "07e7dca4-fcb4-4fe8-ae62-cd10f5cf61e8",
   "metadata": {},
   "source": [
    "## Data Understanding \n",
    "What are the things that a potential home buyer considers before purchasing a house? The location, the size of the property, vicinity to offices, schools, parks, restaurants, hospitals or the stereotypical white picket fence? What about the most important factor -- the price? Now with the lingering impact of demonetization, the enforcement of the Real Estate (Regulation and Development) Act (RERA), and the lack of trust in property developers in the city, housing units sold across India in 2017 dropped by 7 percent. In fact, the property prices in Bengaluru fell by almost 5 percent in the second half of 2017, said a study published by property consultancy Knight Frank. For example, for a potential homeowner, over 9,000 apartment projects and flats for sale are available in the range of ₹42-52 lakh, followed by over 7,100 apartments that are in the ₹52-62 lakh budget segment, says a report by property website Makaan. According to the study, there are over 5,000 projects in the ₹15-25 lakh budget segment followed by those in the ₹34-43 lakh budget category. Buying a home, especially in a city like Bengaluru, is a tricky choice. While the major factors are usually the same for all metros, there are others to be considered for the Silicon Valley of India. With its help millennial crowd, vibrant culture, great climate and a slew of job opportunities, it is difficult to ascertain the price of a house in Bengaluru.   So what determines the property prices in Namma Bengaluru? Data : The train and test data will consist of various features that describe that property in Bengaluru. This is an actual data set that is curated over months of primary & secondary research by our team. Each row contains fixed size object of features. There are 9 features and each feature can be accessed by its name. Features Area_type - describes the area Availability - when it can be possessed or when it is ready(categorical and time-series) Location - where it is located in Bengaluru Price - Value of the property in lakhs(INR) Size - in BHK or Bedroom (1-10 or more) Society - to which society it belongs Total_sqft - size of the property in sq.ft Bath - No. of bathrooms Balcony - No. of the balcony Problem Statement With the given 9 features(categorical and continuous) build a model to predict the price of houses in Bengaluru."
   ]
  },
  {
   "cell_type": "code",
   "execution_count": 1,
   "id": "e99f9f90-7049-43d3-980b-712458fce565",
   "metadata": {},
   "outputs": [],
   "source": [
    "import pandas as pd"
   ]
  },
  {
   "cell_type": "code",
   "execution_count": 2,
   "id": "fcfe8c66-2b84-4680-b68f-357920a91af9",
   "metadata": {},
   "outputs": [],
   "source": [
    "Test = pd.read_csv('Test.csv')"
   ]
  },
  {
   "cell_type": "code",
   "execution_count": 3,
   "id": "1cdcc542-fbd0-4e13-a45c-6b23307a652c",
   "metadata": {},
   "outputs": [
    {
     "data": {
      "text/html": [
       "<div>\n",
       "<style scoped>\n",
       "    .dataframe tbody tr th:only-of-type {\n",
       "        vertical-align: middle;\n",
       "    }\n",
       "\n",
       "    .dataframe tbody tr th {\n",
       "        vertical-align: top;\n",
       "    }\n",
       "\n",
       "    .dataframe thead th {\n",
       "        text-align: right;\n",
       "    }\n",
       "</style>\n",
       "<table border=\"1\" class=\"dataframe\">\n",
       "  <thead>\n",
       "    <tr style=\"text-align: right;\">\n",
       "      <th></th>\n",
       "      <th>area_type</th>\n",
       "      <th>availability</th>\n",
       "      <th>location</th>\n",
       "      <th>size</th>\n",
       "      <th>society</th>\n",
       "      <th>total_sqft</th>\n",
       "      <th>bath</th>\n",
       "      <th>balcony</th>\n",
       "      <th>price</th>\n",
       "    </tr>\n",
       "  </thead>\n",
       "  <tbody>\n",
       "    <tr>\n",
       "      <th>0</th>\n",
       "      <td>Super built-up  Area</td>\n",
       "      <td>19-Dec</td>\n",
       "      <td>Electronic City Phase II</td>\n",
       "      <td>2 BHK</td>\n",
       "      <td>Coomee</td>\n",
       "      <td>1056</td>\n",
       "      <td>2.0</td>\n",
       "      <td>1.0</td>\n",
       "      <td>39.07</td>\n",
       "    </tr>\n",
       "    <tr>\n",
       "      <th>1</th>\n",
       "      <td>Plot  Area</td>\n",
       "      <td>Ready To Move</td>\n",
       "      <td>Chikka Tirupathi</td>\n",
       "      <td>4 Bedroom</td>\n",
       "      <td>Theanmp</td>\n",
       "      <td>2600</td>\n",
       "      <td>5.0</td>\n",
       "      <td>3.0</td>\n",
       "      <td>120.00</td>\n",
       "    </tr>\n",
       "    <tr>\n",
       "      <th>2</th>\n",
       "      <td>Built-up  Area</td>\n",
       "      <td>Ready To Move</td>\n",
       "      <td>Uttarahalli</td>\n",
       "      <td>3 BHK</td>\n",
       "      <td>NaN</td>\n",
       "      <td>1440</td>\n",
       "      <td>2.0</td>\n",
       "      <td>3.0</td>\n",
       "      <td>62.00</td>\n",
       "    </tr>\n",
       "    <tr>\n",
       "      <th>3</th>\n",
       "      <td>Super built-up  Area</td>\n",
       "      <td>Ready To Move</td>\n",
       "      <td>Lingadheeranahalli</td>\n",
       "      <td>3 BHK</td>\n",
       "      <td>Soiewre</td>\n",
       "      <td>1521</td>\n",
       "      <td>3.0</td>\n",
       "      <td>1.0</td>\n",
       "      <td>95.00</td>\n",
       "    </tr>\n",
       "    <tr>\n",
       "      <th>4</th>\n",
       "      <td>Super built-up  Area</td>\n",
       "      <td>Ready To Move</td>\n",
       "      <td>Kothanur</td>\n",
       "      <td>2 BHK</td>\n",
       "      <td>NaN</td>\n",
       "      <td>1200</td>\n",
       "      <td>2.0</td>\n",
       "      <td>1.0</td>\n",
       "      <td>51.00</td>\n",
       "    </tr>\n",
       "  </tbody>\n",
       "</table>\n",
       "</div>"
      ],
      "text/plain": [
       "              area_type   availability                  location       size  \\\n",
       "0  Super built-up  Area         19-Dec  Electronic City Phase II      2 BHK   \n",
       "1            Plot  Area  Ready To Move          Chikka Tirupathi  4 Bedroom   \n",
       "2        Built-up  Area  Ready To Move               Uttarahalli      3 BHK   \n",
       "3  Super built-up  Area  Ready To Move        Lingadheeranahalli      3 BHK   \n",
       "4  Super built-up  Area  Ready To Move                  Kothanur      2 BHK   \n",
       "\n",
       "   society total_sqft  bath  balcony   price  \n",
       "0  Coomee        1056   2.0      1.0   39.07  \n",
       "1  Theanmp       2600   5.0      3.0  120.00  \n",
       "2      NaN       1440   2.0      3.0   62.00  \n",
       "3  Soiewre       1521   3.0      1.0   95.00  \n",
       "4      NaN       1200   2.0      1.0   51.00  "
      ]
     },
     "execution_count": 3,
     "metadata": {},
     "output_type": "execute_result"
    }
   ],
   "source": [
    "Train = pd.read_csv('Train.csv')\n",
    "Train.head()"
   ]
  },
  {
   "cell_type": "code",
   "execution_count": 4,
   "id": "07516141-5d85-4f87-93e2-9d429923cec2",
   "metadata": {},
   "outputs": [
    {
     "name": "stdout",
     "output_type": "stream",
     "text": [
      "<class 'pandas.core.frame.DataFrame'>\n",
      "RangeIndex: 13320 entries, 0 to 13319\n",
      "Data columns (total 9 columns):\n",
      " #   Column        Non-Null Count  Dtype  \n",
      "---  ------        --------------  -----  \n",
      " 0   area_type     13320 non-null  object \n",
      " 1   availability  13320 non-null  object \n",
      " 2   location      13319 non-null  object \n",
      " 3   size          13304 non-null  object \n",
      " 4   society       7818 non-null   object \n",
      " 5   total_sqft    13320 non-null  object \n",
      " 6   bath          13247 non-null  float64\n",
      " 7   balcony       12711 non-null  float64\n",
      " 8   price         13320 non-null  float64\n",
      "dtypes: float64(3), object(6)\n",
      "memory usage: 936.7+ KB\n"
     ]
    }
   ],
   "source": [
    "Train.info()"
   ]
  },
  {
   "cell_type": "code",
   "execution_count": 5,
   "id": "cb04bfd4-776f-42dd-92ab-c1e4f9c41e07",
   "metadata": {},
   "outputs": [
    {
     "data": {
      "text/html": [
       "<div>\n",
       "<style scoped>\n",
       "    .dataframe tbody tr th:only-of-type {\n",
       "        vertical-align: middle;\n",
       "    }\n",
       "\n",
       "    .dataframe tbody tr th {\n",
       "        vertical-align: top;\n",
       "    }\n",
       "\n",
       "    .dataframe thead th {\n",
       "        text-align: right;\n",
       "    }\n",
       "</style>\n",
       "<table border=\"1\" class=\"dataframe\">\n",
       "  <thead>\n",
       "    <tr style=\"text-align: right;\">\n",
       "      <th></th>\n",
       "      <th>area_type</th>\n",
       "      <th>availability</th>\n",
       "      <th>location</th>\n",
       "      <th>size</th>\n",
       "      <th>society</th>\n",
       "      <th>total_sqft</th>\n",
       "      <th>bath</th>\n",
       "      <th>balcony</th>\n",
       "      <th>price</th>\n",
       "    </tr>\n",
       "  </thead>\n",
       "  <tbody>\n",
       "    <tr>\n",
       "      <th>0</th>\n",
       "      <td>Super built-up  Area</td>\n",
       "      <td>Ready To Move</td>\n",
       "      <td>Brookefield</td>\n",
       "      <td>2 BHK</td>\n",
       "      <td>Roeekbl</td>\n",
       "      <td>1225</td>\n",
       "      <td>2.0</td>\n",
       "      <td>2.0</td>\n",
       "      <td>NaN</td>\n",
       "    </tr>\n",
       "    <tr>\n",
       "      <th>1</th>\n",
       "      <td>Plot  Area</td>\n",
       "      <td>Ready To Move</td>\n",
       "      <td>Akshaya Nagar</td>\n",
       "      <td>9 Bedroom</td>\n",
       "      <td>NaN</td>\n",
       "      <td>2400</td>\n",
       "      <td>9.0</td>\n",
       "      <td>2.0</td>\n",
       "      <td>NaN</td>\n",
       "    </tr>\n",
       "    <tr>\n",
       "      <th>2</th>\n",
       "      <td>Plot  Area</td>\n",
       "      <td>18-Apr</td>\n",
       "      <td>Hennur Road</td>\n",
       "      <td>4 Bedroom</td>\n",
       "      <td>Saandtt</td>\n",
       "      <td>1650</td>\n",
       "      <td>5.0</td>\n",
       "      <td>2.0</td>\n",
       "      <td>NaN</td>\n",
       "    </tr>\n",
       "    <tr>\n",
       "      <th>3</th>\n",
       "      <td>Super built-up  Area</td>\n",
       "      <td>Ready To Move</td>\n",
       "      <td>Kodichikkanahalli</td>\n",
       "      <td>3 BHK</td>\n",
       "      <td>Winerri</td>\n",
       "      <td>1322</td>\n",
       "      <td>3.0</td>\n",
       "      <td>1.0</td>\n",
       "      <td>NaN</td>\n",
       "    </tr>\n",
       "    <tr>\n",
       "      <th>4</th>\n",
       "      <td>Super built-up  Area</td>\n",
       "      <td>Ready To Move</td>\n",
       "      <td>Konanakunte</td>\n",
       "      <td>2 BHK</td>\n",
       "      <td>AmageSa</td>\n",
       "      <td>1161</td>\n",
       "      <td>2.0</td>\n",
       "      <td>1.0</td>\n",
       "      <td>NaN</td>\n",
       "    </tr>\n",
       "  </tbody>\n",
       "</table>\n",
       "</div>"
      ],
      "text/plain": [
       "              area_type   availability           location       size  society  \\\n",
       "0  Super built-up  Area  Ready To Move        Brookefield      2 BHK  Roeekbl   \n",
       "1            Plot  Area  Ready To Move      Akshaya Nagar  9 Bedroom      NaN   \n",
       "2            Plot  Area         18-Apr        Hennur Road  4 Bedroom  Saandtt   \n",
       "3  Super built-up  Area  Ready To Move  Kodichikkanahalli      3 BHK  Winerri   \n",
       "4  Super built-up  Area  Ready To Move        Konanakunte      2 BHK  AmageSa   \n",
       "\n",
       "  total_sqft  bath  balcony  price  \n",
       "0       1225   2.0      2.0    NaN  \n",
       "1       2400   9.0      2.0    NaN  \n",
       "2       1650   5.0      2.0    NaN  \n",
       "3       1322   3.0      1.0    NaN  \n",
       "4       1161   2.0      1.0    NaN  "
      ]
     },
     "execution_count": 5,
     "metadata": {},
     "output_type": "execute_result"
    }
   ],
   "source": [
    "Test.head()"
   ]
  },
  {
   "cell_type": "markdown",
   "id": "d5b1a799-7e4f-41b1-974a-a130252438c1",
   "metadata": {},
   "source": [
    "- Need to clean the test data to get the total_sqft as int\n",
    "- Size needs to be str.split tp get the numeric value as an int \n",
    "- areatype can be pre-processed "
   ]
  },
  {
   "cell_type": "code",
   "execution_count": 6,
   "id": "3523ced4-465d-445b-8c4a-e1eaba6f9846",
   "metadata": {},
   "outputs": [
    {
     "name": "stdout",
     "output_type": "stream",
     "text": [
      "<class 'pandas.core.frame.DataFrame'>\n",
      "RangeIndex: 1480 entries, 0 to 1479\n",
      "Data columns (total 9 columns):\n",
      " #   Column        Non-Null Count  Dtype  \n",
      "---  ------        --------------  -----  \n",
      " 0   area_type     1480 non-null   object \n",
      " 1   availability  1480 non-null   object \n",
      " 2   location      1480 non-null   object \n",
      " 3   size          1478 non-null   object \n",
      " 4   society       854 non-null    object \n",
      " 5   total_sqft    1480 non-null   object \n",
      " 6   bath          1473 non-null   float64\n",
      " 7   balcony       1411 non-null   float64\n",
      " 8   price         0 non-null      float64\n",
      "dtypes: float64(3), object(6)\n",
      "memory usage: 104.2+ KB\n"
     ]
    }
   ],
   "source": [
    "Test.info()"
   ]
  },
  {
   "cell_type": "code",
   "execution_count": 7,
   "id": "ed9598f8-cb81-423c-a8d7-c6d5ced6a490",
   "metadata": {},
   "outputs": [
    {
     "name": "stdout",
     "output_type": "stream",
     "text": [
      "area_type unique : 4\n",
      "availability unique : 51\n",
      "location unique : 495\n",
      "size unique : 22\n",
      "society unique : 595\n",
      "total_sqft unique : 666\n",
      "bath unique : 12\n",
      "balcony unique : 5\n",
      "price unique : 1\n"
     ]
    }
   ],
   "source": [
    "for i in list(Test.columns.unique()):\n",
    "    print( i , \"unique :\",len(Test[str(i)].unique()))"
   ]
  },
  {
   "cell_type": "code",
   "execution_count": 8,
   "id": "e66d50f7-6db9-47bf-8b96-6cafd08c6f03",
   "metadata": {},
   "outputs": [
    {
     "name": "stdout",
     "output_type": "stream",
     "text": [
      "area_type unique : 4\n",
      "availability unique : 81\n",
      "location unique : 1306\n",
      "size unique : 32\n",
      "society unique : 2689\n",
      "total_sqft unique : 2117\n",
      "bath unique : 20\n",
      "balcony unique : 5\n",
      "price unique : 1994\n"
     ]
    }
   ],
   "source": [
    "for i in list(Train.columns.unique()):\n",
    "    print( i , \"unique :\",len(Train[str(i)].unique()))"
   ]
  },
  {
   "cell_type": "markdown",
   "id": "14e0735a-5463-4b0c-8677-80f6e0588755",
   "metadata": {},
   "source": [
    "# Exploring Data"
   ]
  },
  {
   "cell_type": "code",
   "execution_count": 9,
   "id": "f7664f4a-486a-45a4-9073-5b580bdf6144",
   "metadata": {},
   "outputs": [
    {
     "data": {
      "text/html": [
       "<div>\n",
       "<style scoped>\n",
       "    .dataframe tbody tr th:only-of-type {\n",
       "        vertical-align: middle;\n",
       "    }\n",
       "\n",
       "    .dataframe tbody tr th {\n",
       "        vertical-align: top;\n",
       "    }\n",
       "\n",
       "    .dataframe thead tr th {\n",
       "        text-align: left;\n",
       "    }\n",
       "\n",
       "    .dataframe thead tr:last-of-type th {\n",
       "        text-align: right;\n",
       "    }\n",
       "</style>\n",
       "<table border=\"1\" class=\"dataframe\">\n",
       "  <thead>\n",
       "    <tr>\n",
       "      <th></th>\n",
       "      <th colspan=\"8\" halign=\"left\">bath</th>\n",
       "      <th colspan=\"8\" halign=\"left\">balcony</th>\n",
       "    </tr>\n",
       "    <tr>\n",
       "      <th></th>\n",
       "      <th>count</th>\n",
       "      <th>mean</th>\n",
       "      <th>std</th>\n",
       "      <th>min</th>\n",
       "      <th>25%</th>\n",
       "      <th>50%</th>\n",
       "      <th>75%</th>\n",
       "      <th>max</th>\n",
       "      <th>count</th>\n",
       "      <th>mean</th>\n",
       "      <th>std</th>\n",
       "      <th>min</th>\n",
       "      <th>25%</th>\n",
       "      <th>50%</th>\n",
       "      <th>75%</th>\n",
       "      <th>max</th>\n",
       "    </tr>\n",
       "    <tr>\n",
       "      <th>area_type</th>\n",
       "      <th></th>\n",
       "      <th></th>\n",
       "      <th></th>\n",
       "      <th></th>\n",
       "      <th></th>\n",
       "      <th></th>\n",
       "      <th></th>\n",
       "      <th></th>\n",
       "      <th></th>\n",
       "      <th></th>\n",
       "      <th></th>\n",
       "      <th></th>\n",
       "      <th></th>\n",
       "      <th></th>\n",
       "      <th></th>\n",
       "      <th></th>\n",
       "    </tr>\n",
       "  </thead>\n",
       "  <tbody>\n",
       "    <tr>\n",
       "      <th>Built-up  Area</th>\n",
       "      <td>269.0</td>\n",
       "      <td>2.654275</td>\n",
       "      <td>1.264981</td>\n",
       "      <td>1.0</td>\n",
       "      <td>2.0</td>\n",
       "      <td>2.0</td>\n",
       "      <td>3.00</td>\n",
       "      <td>9.0</td>\n",
       "      <td>260.0</td>\n",
       "      <td>1.442308</td>\n",
       "      <td>0.887786</td>\n",
       "      <td>0.0</td>\n",
       "      <td>1.0</td>\n",
       "      <td>1.0</td>\n",
       "      <td>2.0</td>\n",
       "      <td>3.0</td>\n",
       "    </tr>\n",
       "    <tr>\n",
       "      <th>Carpet  Area</th>\n",
       "      <td>10.0</td>\n",
       "      <td>3.100000</td>\n",
       "      <td>1.911951</td>\n",
       "      <td>2.0</td>\n",
       "      <td>2.0</td>\n",
       "      <td>2.0</td>\n",
       "      <td>3.75</td>\n",
       "      <td>8.0</td>\n",
       "      <td>10.0</td>\n",
       "      <td>1.500000</td>\n",
       "      <td>0.971825</td>\n",
       "      <td>0.0</td>\n",
       "      <td>1.0</td>\n",
       "      <td>2.0</td>\n",
       "      <td>2.0</td>\n",
       "      <td>3.0</td>\n",
       "    </tr>\n",
       "    <tr>\n",
       "      <th>Plot  Area</th>\n",
       "      <td>252.0</td>\n",
       "      <td>3.892857</td>\n",
       "      <td>1.998114</td>\n",
       "      <td>1.0</td>\n",
       "      <td>3.0</td>\n",
       "      <td>4.0</td>\n",
       "      <td>5.00</td>\n",
       "      <td>16.0</td>\n",
       "      <td>232.0</td>\n",
       "      <td>1.409483</td>\n",
       "      <td>1.027962</td>\n",
       "      <td>0.0</td>\n",
       "      <td>1.0</td>\n",
       "      <td>1.0</td>\n",
       "      <td>2.0</td>\n",
       "      <td>3.0</td>\n",
       "    </tr>\n",
       "    <tr>\n",
       "      <th>Super built-up  Area</th>\n",
       "      <td>942.0</td>\n",
       "      <td>2.473461</td>\n",
       "      <td>0.964203</td>\n",
       "      <td>1.0</td>\n",
       "      <td>2.0</td>\n",
       "      <td>2.0</td>\n",
       "      <td>3.00</td>\n",
       "      <td>9.0</td>\n",
       "      <td>909.0</td>\n",
       "      <td>1.635864</td>\n",
       "      <td>0.752727</td>\n",
       "      <td>0.0</td>\n",
       "      <td>1.0</td>\n",
       "      <td>2.0</td>\n",
       "      <td>2.0</td>\n",
       "      <td>3.0</td>\n",
       "    </tr>\n",
       "  </tbody>\n",
       "</table>\n",
       "</div>"
      ],
      "text/plain": [
       "                       bath                                                 \\\n",
       "                      count      mean       std  min  25%  50%   75%   max   \n",
       "area_type                                                                    \n",
       "Built-up  Area        269.0  2.654275  1.264981  1.0  2.0  2.0  3.00   9.0   \n",
       "Carpet  Area           10.0  3.100000  1.911951  2.0  2.0  2.0  3.75   8.0   \n",
       "Plot  Area            252.0  3.892857  1.998114  1.0  3.0  4.0  5.00  16.0   \n",
       "Super built-up  Area  942.0  2.473461  0.964203  1.0  2.0  2.0  3.00   9.0   \n",
       "\n",
       "                     balcony                                               \n",
       "                       count      mean       std  min  25%  50%  75%  max  \n",
       "area_type                                                                  \n",
       "Built-up  Area         260.0  1.442308  0.887786  0.0  1.0  1.0  2.0  3.0  \n",
       "Carpet  Area            10.0  1.500000  0.971825  0.0  1.0  2.0  2.0  3.0  \n",
       "Plot  Area             232.0  1.409483  1.027962  0.0  1.0  1.0  2.0  3.0  \n",
       "Super built-up  Area   909.0  1.635864  0.752727  0.0  1.0  2.0  2.0  3.0  "
      ]
     },
     "execution_count": 9,
     "metadata": {},
     "output_type": "execute_result"
    }
   ],
   "source": [
    "Test.drop(\"price\", axis = 1).groupby('area_type').describe()"
   ]
  },
  {
   "cell_type": "code",
   "execution_count": 10,
   "id": "32d3a3c2-d700-479d-8886-2a2447edbeca",
   "metadata": {},
   "outputs": [
    {
     "data": {
      "text/html": [
       "<div>\n",
       "<style scoped>\n",
       "    .dataframe tbody tr th:only-of-type {\n",
       "        vertical-align: middle;\n",
       "    }\n",
       "\n",
       "    .dataframe tbody tr th {\n",
       "        vertical-align: top;\n",
       "    }\n",
       "\n",
       "    .dataframe thead tr th {\n",
       "        text-align: left;\n",
       "    }\n",
       "\n",
       "    .dataframe thead tr:last-of-type th {\n",
       "        text-align: right;\n",
       "    }\n",
       "</style>\n",
       "<table border=\"1\" class=\"dataframe\">\n",
       "  <thead>\n",
       "    <tr>\n",
       "      <th></th>\n",
       "      <th colspan=\"8\" halign=\"left\">bath</th>\n",
       "      <th colspan=\"5\" halign=\"left\">balcony</th>\n",
       "      <th colspan=\"8\" halign=\"left\">price</th>\n",
       "    </tr>\n",
       "    <tr>\n",
       "      <th></th>\n",
       "      <th>count</th>\n",
       "      <th>mean</th>\n",
       "      <th>std</th>\n",
       "      <th>min</th>\n",
       "      <th>25%</th>\n",
       "      <th>50%</th>\n",
       "      <th>75%</th>\n",
       "      <th>max</th>\n",
       "      <th>count</th>\n",
       "      <th>mean</th>\n",
       "      <th>...</th>\n",
       "      <th>75%</th>\n",
       "      <th>max</th>\n",
       "      <th>count</th>\n",
       "      <th>mean</th>\n",
       "      <th>std</th>\n",
       "      <th>min</th>\n",
       "      <th>25%</th>\n",
       "      <th>50%</th>\n",
       "      <th>75%</th>\n",
       "      <th>max</th>\n",
       "    </tr>\n",
       "    <tr>\n",
       "      <th>area_type</th>\n",
       "      <th></th>\n",
       "      <th></th>\n",
       "      <th></th>\n",
       "      <th></th>\n",
       "      <th></th>\n",
       "      <th></th>\n",
       "      <th></th>\n",
       "      <th></th>\n",
       "      <th></th>\n",
       "      <th></th>\n",
       "      <th></th>\n",
       "      <th></th>\n",
       "      <th></th>\n",
       "      <th></th>\n",
       "      <th></th>\n",
       "      <th></th>\n",
       "      <th></th>\n",
       "      <th></th>\n",
       "      <th></th>\n",
       "      <th></th>\n",
       "      <th></th>\n",
       "    </tr>\n",
       "  </thead>\n",
       "  <tbody>\n",
       "    <tr>\n",
       "      <th>Built-up  Area</th>\n",
       "      <td>2410.0</td>\n",
       "      <td>2.649378</td>\n",
       "      <td>1.250774</td>\n",
       "      <td>1.0</td>\n",
       "      <td>2.0</td>\n",
       "      <td>2.0</td>\n",
       "      <td>3.0</td>\n",
       "      <td>10.0</td>\n",
       "      <td>2310.0</td>\n",
       "      <td>1.472727</td>\n",
       "      <td>...</td>\n",
       "      <td>2.0</td>\n",
       "      <td>3.0</td>\n",
       "      <td>2418.0</td>\n",
       "      <td>104.285498</td>\n",
       "      <td>109.270222</td>\n",
       "      <td>9.00</td>\n",
       "      <td>47.0000</td>\n",
       "      <td>70.0</td>\n",
       "      <td>120.000</td>\n",
       "      <td>2050.0</td>\n",
       "    </tr>\n",
       "    <tr>\n",
       "      <th>Carpet  Area</th>\n",
       "      <td>87.0</td>\n",
       "      <td>2.505747</td>\n",
       "      <td>1.170108</td>\n",
       "      <td>1.0</td>\n",
       "      <td>2.0</td>\n",
       "      <td>2.0</td>\n",
       "      <td>3.0</td>\n",
       "      <td>9.0</td>\n",
       "      <td>82.0</td>\n",
       "      <td>1.402439</td>\n",
       "      <td>...</td>\n",
       "      <td>2.0</td>\n",
       "      <td>3.0</td>\n",
       "      <td>87.0</td>\n",
       "      <td>89.502356</td>\n",
       "      <td>73.446012</td>\n",
       "      <td>13.00</td>\n",
       "      <td>47.7025</td>\n",
       "      <td>70.0</td>\n",
       "      <td>100.000</td>\n",
       "      <td>500.0</td>\n",
       "    </tr>\n",
       "    <tr>\n",
       "      <th>Plot  Area</th>\n",
       "      <td>2009.0</td>\n",
       "      <td>3.893479</td>\n",
       "      <td>2.022681</td>\n",
       "      <td>1.0</td>\n",
       "      <td>3.0</td>\n",
       "      <td>4.0</td>\n",
       "      <td>5.0</td>\n",
       "      <td>40.0</td>\n",
       "      <td>1837.0</td>\n",
       "      <td>1.392488</td>\n",
       "      <td>...</td>\n",
       "      <td>2.0</td>\n",
       "      <td>3.0</td>\n",
       "      <td>2025.0</td>\n",
       "      <td>208.495486</td>\n",
       "      <td>253.311895</td>\n",
       "      <td>8.44</td>\n",
       "      <td>85.0000</td>\n",
       "      <td>140.0</td>\n",
       "      <td>240.000</td>\n",
       "      <td>3600.0</td>\n",
       "    </tr>\n",
       "    <tr>\n",
       "      <th>Super built-up  Area</th>\n",
       "      <td>8741.0</td>\n",
       "      <td>2.430386</td>\n",
       "      <td>0.970320</td>\n",
       "      <td>1.0</td>\n",
       "      <td>2.0</td>\n",
       "      <td>2.0</td>\n",
       "      <td>3.0</td>\n",
       "      <td>27.0</td>\n",
       "      <td>8482.0</td>\n",
       "      <td>1.658100</td>\n",
       "      <td>...</td>\n",
       "      <td>2.0</td>\n",
       "      <td>3.0</td>\n",
       "      <td>8790.0</td>\n",
       "      <td>92.971757</td>\n",
       "      <td>113.971214</td>\n",
       "      <td>8.00</td>\n",
       "      <td>47.2500</td>\n",
       "      <td>65.0</td>\n",
       "      <td>98.195</td>\n",
       "      <td>2912.0</td>\n",
       "    </tr>\n",
       "  </tbody>\n",
       "</table>\n",
       "<p>4 rows × 24 columns</p>\n",
       "</div>"
      ],
      "text/plain": [
       "                        bath                                                \\\n",
       "                       count      mean       std  min  25%  50%  75%   max   \n",
       "area_type                                                                    \n",
       "Built-up  Area        2410.0  2.649378  1.250774  1.0  2.0  2.0  3.0  10.0   \n",
       "Carpet  Area            87.0  2.505747  1.170108  1.0  2.0  2.0  3.0   9.0   \n",
       "Plot  Area            2009.0  3.893479  2.022681  1.0  3.0  4.0  5.0  40.0   \n",
       "Super built-up  Area  8741.0  2.430386  0.970320  1.0  2.0  2.0  3.0  27.0   \n",
       "\n",
       "                     balcony            ...             price              \\\n",
       "                       count      mean  ...  75%  max   count        mean   \n",
       "area_type                               ...                                 \n",
       "Built-up  Area        2310.0  1.472727  ...  2.0  3.0  2418.0  104.285498   \n",
       "Carpet  Area            82.0  1.402439  ...  2.0  3.0    87.0   89.502356   \n",
       "Plot  Area            1837.0  1.392488  ...  2.0  3.0  2025.0  208.495486   \n",
       "Super built-up  Area  8482.0  1.658100  ...  2.0  3.0  8790.0   92.971757   \n",
       "\n",
       "                                                                          \n",
       "                             std    min      25%    50%      75%     max  \n",
       "area_type                                                                 \n",
       "Built-up  Area        109.270222   9.00  47.0000   70.0  120.000  2050.0  \n",
       "Carpet  Area           73.446012  13.00  47.7025   70.0  100.000   500.0  \n",
       "Plot  Area            253.311895   8.44  85.0000  140.0  240.000  3600.0  \n",
       "Super built-up  Area  113.971214   8.00  47.2500   65.0   98.195  2912.0  \n",
       "\n",
       "[4 rows x 24 columns]"
      ]
     },
     "execution_count": 10,
     "metadata": {},
     "output_type": "execute_result"
    }
   ],
   "source": [
    "Train.groupby('area_type').describe()"
   ]
  },
  {
   "cell_type": "markdown",
   "id": "cac62eee-a580-420f-abda-dc99f9a78f0a",
   "metadata": {},
   "source": [
    "# Outliers "
   ]
  },
  {
   "cell_type": "code",
   "execution_count": 11,
   "id": "d797de12-0001-41f0-b1fd-2445a8dc5f07",
   "metadata": {},
   "outputs": [
    {
     "data": {
      "image/png": "[encoded data removed]",
      "text/plain": [
       "<Figure size 432x288 with 1 Axes>"
      ]
     },
     "metadata": {
      "needs_background": "light"
     },
     "output_type": "display_data"
    }
   ],
   "source": [
    "import matplotlib.pyplot as plt\n",
    "Train.drop('price', axis = 1).boxplot()\n",
    "plt.show()"
   ]
  },
  {
   "cell_type": "code",
   "execution_count": 12,
   "id": "d9b83b8d-9b3e-4ec5-86fa-6aa9d30a4e74",
   "metadata": {},
   "outputs": [],
   "source": [
    "#def outliers(df):    \n",
    " #   df = df[df['bath'] < 5]\n",
    "  #  df = df[(df['total_sqft'] < 2100) & (df['total_sqft'] > 350)]\n",
    "   # return df"
   ]
  },
  {
   "cell_type": "markdown",
   "id": "dbbef8bb-e7b2-4bb3-a902-8ee727c06ed6",
   "metadata": {},
   "source": [
    "# Cleaning Some Data \n",
    "- Want to change the avalability to multi class variables \n",
    "    - Ready to Move \n",
    "    - Immediate Possession \n",
    "    - Not Ready ( New variable instead of the unique dates)\n",
    "    \n",
    "- After we will have 3 values instead of multiple unique values that would not fit into the model for predictions\n",
    "   "
   ]
  },
  {
   "cell_type": "code",
   "execution_count": 13,
   "id": "07ebd512-ba34-47d9-b2c4-aaeedc9c40c5",
   "metadata": {},
   "outputs": [],
   "source": [
    "#Train = pd.read_csv('Train.csv')\n",
    "#Test = pd.read_csv('Test.csv')\n",
    "import numpy as np\n",
    "def clean(df):\n",
    "    #df = df.loc[:, df['location'].isin(Test['location'])]\n",
    "    # Filling in the mean valyues for missing values in size after splitting and changing data type \n",
    "    df['availability'] = np.where(\n",
    "        df['availability'].isin(['Ready To Move', 'Immediate Possession']),\n",
    "        df['availability'],\n",
    "        'Not Ready To Move'\n",
    "    )\n",
    "    \n",
    "    X_ = round(pd.DataFrame(df['size'].str.split(\" \", expand = True)[0]).fillna(0)[0].astype(int).mean())\n",
    "    df['size'] = df['size'].str.split(\" \", expand = True)[0]\n",
    "    df['size'].fillna(0, inplace=True)\n",
    "    df['size'] = df['size'].astype(int)\n",
    "    # FIlling in the meabn to bath and balcony na values\n",
    "    df['bath'].fillna(round(df['bath'].mean()), inplace=True)\n",
    "    df['balcony'].fillna(round(df['balcony'].mean()), inplace=True)\n",
    "    #Dropping na vlaue in location \n",
    "    #df = df.loc[:, df['location'].isin(Test['location'])]\n",
    "    test_value = df['location'].unique()  \n",
    "    test_locs_in_train = Test[Test['location'].isin(test_value)]  \n",
    "\n",
    "    df.dropna(subset=['location'], inplace=True)\n",
    "    \n",
    "    # These are the features that are best suitable for the job because society is missing aroudn half of its values \n",
    "    return df[['area_type','availability','location','size','total_sqft','bath','balcony','price']]\n",
    "\n",
    "import re\n",
    "#Getting rid of all values qwith - , meters \n",
    "def clean_numeric_data(value):\n",
    "    if isinstance(value, str):\n",
    "        value = re.findall(r'\\d+\\.?\\d*', value)\n",
    "        if len(value) == 1:\n",
    "            return int(float(value[0]))\n",
    "        elif len(value) == 2:\n",
    "            return int((float(value[0]) + float(value[1])) / 2)\n",
    "    elif isinstance(value, (int, float)):\n",
    "        return int(value)\n",
    "    else:\n",
    "        return None\n",
    "#Train['total_sqft'] = Train['total_sqft'].apply(clean_numeric_data)"
   ]
  },
  {
   "cell_type": "code",
   "execution_count": 14,
   "id": "efd8296e-2dcb-40c9-99c1-f06f0c7e9dce",
   "metadata": {},
   "outputs": [],
   "source": [
    "#Train = clean(Train)\n",
    "#Train['total_sqft'] = Train['total_sqft'].apply(clean_numeric_data)\n"
   ]
  },
  {
   "cell_type": "markdown",
   "id": "1a928c9f-e650-4bb7-841c-1f18d2eaded5",
   "metadata": {},
   "source": [
    "# Preprocessing"
   ]
  },
  {
   "cell_type": "code",
   "execution_count": 15,
   "id": "b504e0c5-45ee-4801-9812-4efddde47680",
   "metadata": {},
   "outputs": [],
   "source": [
    "# create dummy variables and add them to the dataframe  'area_type','location' , 'pca_1','pca_2','pca_3','pca_4'\n",
    "def preprocessing(df):\n",
    "    df_dummies = pd.get_dummies(df[['availability', 'area_type']])\n",
    "    df = pd.concat([df[['size', 'total_sqft','bath','balcony','price']], df_dummies], axis=1)\n",
    "    return df"
   ]
  },
  {
   "cell_type": "markdown",
   "id": "2a4161b4-d6d2-46a9-a153-9149db438277",
   "metadata": {},
   "source": [
    "# Modeling - First Gradient Boost Regressor "
   ]
  },
  {
   "cell_type": "code",
   "execution_count": 16,
   "id": "fbcb0b5d-6066-4d67-a081-86c73bf9b3ab",
   "metadata": {},
   "outputs": [],
   "source": [
    "from sklearn.ensemble import GradientBoostingRegressor\n",
    "import warnings\n",
    "warnings.filterwarnings(\"ignore\")\n",
    "Test = pd.read_csv('Test.csv')\n",
    "Train = pd.read_csv('Train.csv')"
   ]
  },
  {
   "cell_type": "raw",
   "id": "eba73760-1b92-41e2-a64b-d6486e2bb833",
   "metadata": {},
   "source": [
    "# get the unique values of the \"location\" column in the test dataset\n",
    "unique_locations = Test['location'].unique()\n",
    "\n",
    "# filter the train dataset based on the unique values of the \"location\" column in the test dataset\n",
    "Train = Train[Train['location'].isin(unique_locations)]\n",
    "\n",
    "# get the unique values of the \"location\" column in the test dataset\n",
    "#unique_locations1 = Train['location'].unique()\n",
    "\n",
    "# filter the train dataset based on the unique values of the \"location\" column in the test dataset\n",
    "#Test = Test[Test['location'].isin(unique_locations1)]\n"
   ]
  },
  {
   "cell_type": "code",
   "execution_count": 17,
   "id": "95bb2659-8bcd-43ae-adb3-57c7bc355a7c",
   "metadata": {},
   "outputs": [],
   "source": [
    "# Running data to each function\n",
    "Train['total_sqft'] = Train['total_sqft'].apply(clean_numeric_data)\n",
    "Train = clean(Train)\n",
    "Train =preprocessing(Train)"
   ]
  },
  {
   "cell_type": "code",
   "execution_count": 18,
   "id": "d0d47113-78a6-47a1-992a-9ccd8cbfb82c",
   "metadata": {},
   "outputs": [],
   "source": [
    "# Running data to each function\n",
    "Test['total_sqft'] = Test['total_sqft'].apply(clean_numeric_data)\n",
    "Test = clean(Test)\n",
    "Test =preprocessing(Test)"
   ]
  },
  {
   "cell_type": "code",
   "execution_count": 19,
   "id": "c7887237-6803-4389-855d-d29eb9710a73",
   "metadata": {},
   "outputs": [],
   "source": [
    "#Test = Test[set(Test.columns).intersection(Train.columns)]\n",
    "#Train = Train[set(Test.columns).intersection(Train.columns)]"
   ]
  },
  {
   "cell_type": "raw",
   "id": "741c25a5-6947-460c-ac2d-9b7b34f07d09",
   "metadata": {},
   "source": [
    "from sklearn.preprocessing import StandardScaler\n",
    "from sklearn.pipeline import make_pipeline\n",
    "from sklearn.metrics import r2_score, mean_squared_error\n",
    "from sklearn.model_selection import GridSearchCV\n",
    "x = Train.drop('price', axis = 1)\n",
    "y = pd.DataFrame(Train['price'])\n",
    "\n",
    "param_grid = {\n",
    "    \"n_estimators\": [100,200],\n",
    "    \"learning_rate\": [.2,.3],\n",
    "    \"max_depth\": [2,4,5,6]\n",
    "}\n",
    "\n",
    "# create the Gradient Boosting Regressor object\n",
    "gb = GradientBoostingRegressor()\n",
    "\n",
    "# Will test a total of 135 different combinations \n",
    "grid_search = GridSearchCV(gb, param_grid=param_grid, cv=5)\n",
    "\n",
    "# fit the GridSearchCV object to your data\n",
    "grid_search.fit(x, y)\n",
    "# print the best parameters and score\n",
    "print(f\"Best Parameters: {grid_search.best_params_}\")  # Gradient boost\n",
    "print(f\"Best Score: {grid_search.best_score_}\")"
   ]
  },
  {
   "cell_type": "raw",
   "id": "52672562-4d63-442e-bffa-d56625e03266",
   "metadata": {},
   "source": [
    "Dummies - 'availability', 'area_type'\n",
    "\n",
    "Best Parameters: {'learning_rate': 0.2, 'max_depth': 6, 'n_estimators': 300}\n",
    "Best Score: 0.5318932303327305\n",
    "\n",
    "Best Parameters: {'learning_rate': 0.2, 'max_depth': 6, 'n_estimators': 200}\n",
    "Best Score: 0.5299236049836255"
   ]
  },
  {
   "cell_type": "code",
   "execution_count": 25,
   "id": "e1cf419e-ca53-4f80-b8ef-ed09cf626e21",
   "metadata": {},
   "outputs": [
    {
     "name": "stdout",
     "output_type": "stream",
     "text": [
      "Mean Squared Error: 1353.5836134382407\n",
      "R2: 0.9390071775960762\n"
     ]
    }
   ],
   "source": [
    "from sklearn.preprocessing import StandardScaler\n",
    "from sklearn.pipeline import make_pipeline\n",
    "from sklearn.metrics import r2_score, mean_squared_error\n",
    "from sklearn.model_selection import GridSearchCV\n",
    "gb = GradientBoostingRegressor(n_estimators=300, learning_rate=0.2, max_depth=6)\n",
    "gb.fit(Train.drop('price', axis = 1), Train['price'])\n",
    "scaler = StandardScaler()\n",
    "pipeline = make_pipeline(scaler, gb)\n",
    "pipeline.fit(Train.drop('price', axis = True), Train['price'])\n",
    "y_pred = pipeline.predict(Train.drop('price', axis = 1))\n",
    "mse = mean_squared_error(Train['price'], y_pred)\n",
    "print('Mean Squared Error:', mse)\n",
    "print( 'R2:', r2_score(Train['price'], y_pred))"
   ]
  },
  {
   "cell_type": "markdown",
   "id": "927862ce-8715-4e39-ab27-28ad7951ca8a",
   "metadata": {},
   "source": [
    "# Predictions "
   ]
  },
  {
   "cell_type": "code",
   "execution_count": 26,
   "id": "a9d6392c-e514-4de8-936e-43777b0992b7",
   "metadata": {},
   "outputs": [],
   "source": [
    "Test = pd.read_csv('Test.csv')"
   ]
  },
  {
   "cell_type": "code",
   "execution_count": 27,
   "id": "8d25f4a2-1135-4957-a499-f041ec7c7969",
   "metadata": {},
   "outputs": [],
   "source": [
    "Test['total_sqft'] = Test['total_sqft'].apply(clean_numeric_data)\n"
   ]
  },
  {
   "cell_type": "code",
   "execution_count": 28,
   "id": "705a8c03-de1a-48c5-9c50-2dfa64fe07cb",
   "metadata": {},
   "outputs": [
    {
     "data": {
      "text/plain": [
       "1480"
      ]
     },
     "execution_count": 28,
     "metadata": {},
     "output_type": "execute_result"
    }
   ],
   "source": [
    "len(Test)"
   ]
  },
  {
   "cell_type": "code",
   "execution_count": 29,
   "id": "1c27c27b-91c0-4a94-afd2-e6cfa4161a1f",
   "metadata": {},
   "outputs": [],
   "source": [
    "Test = clean(Test)\n"
   ]
  },
  {
   "cell_type": "code",
   "execution_count": 30,
   "id": "594ac9a3-83bb-4211-bc76-15f3010d2cc5",
   "metadata": {},
   "outputs": [
    {
     "data": {
      "text/plain": [
       "1480"
      ]
     },
     "execution_count": 30,
     "metadata": {},
     "output_type": "execute_result"
    }
   ],
   "source": [
    "len(Test)"
   ]
  },
  {
   "cell_type": "code",
   "execution_count": 31,
   "id": "4bd23a72-95b5-4304-9a11-b187e7cd8d13",
   "metadata": {},
   "outputs": [],
   "source": [
    "Test =preprocessing(Test)"
   ]
  },
  {
   "cell_type": "code",
   "execution_count": 32,
   "id": "7dd11355-683a-4315-af8b-0db9793c6229",
   "metadata": {},
   "outputs": [
    {
     "data": {
      "text/plain": [
       "1480"
      ]
     },
     "execution_count": 32,
     "metadata": {},
     "output_type": "execute_result"
    }
   ],
   "source": [
    "len(Test)"
   ]
  },
  {
   "cell_type": "code",
   "execution_count": 33,
   "id": "69912078-0f06-4278-b6d7-f7ff83f7c0a8",
   "metadata": {},
   "outputs": [
    {
     "data": {
      "text/plain": [
       "array([ 58.73186439, 389.64417877, 335.50406299, ...,  61.19655013,\n",
       "        32.91428208,  56.66967319])"
      ]
     },
     "execution_count": 33,
     "metadata": {},
     "output_type": "execute_result"
    }
   ],
   "source": [
    "pipeline.predict(Test.drop('price', axis = True))"
   ]
  },
  {
   "cell_type": "code",
   "execution_count": 34,
   "id": "3726f8b1-9a7f-4e26-83e7-452535a68c6e",
   "metadata": {},
   "outputs": [],
   "source": [
    "predicted = pipeline.predict(Test.drop('price', axis = True))"
   ]
  },
  {
   "cell_type": "code",
   "execution_count": 35,
   "id": "24da95b6-d895-44f5-931c-1d3958addb41",
   "metadata": {},
   "outputs": [],
   "source": [
    "pd.DataFrame(predicted, columns=['price']).to_csv('output.csv')"
   ]
  },
  {
   "cell_type": "code",
   "execution_count": null,
   "id": "97ea341f-c7b1-40df-aa21-b4beac3c1292",
   "metadata": {},
   "outputs": [],
   "source": []
  }
 ],
 "metadata": {
  "kernelspec": {
   "display_name": "Python 3 (ipykernel)",
   "language": "python",
   "name": "python3"
  },
  "language_info": {
   "codemirror_mode": {
    "name": "ipython",
    "version": 3
   },
   "file_extension": ".py",
   "mimetype": "text/x-python",
   "name": "python",
   "nbconvert_exporter": "python",
   "pygments_lexer": "ipython3",
   "version": "3.9.12"
  }
 },
 "nbformat": 4,
 "nbformat_minor": 5
}
